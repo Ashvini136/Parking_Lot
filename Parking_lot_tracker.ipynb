{
 "cells": [
  {
   "cell_type": "markdown",
   "id": "9473b98e",
   "metadata": {},
   "source": [
    "## *Ashvini Kawad*\n",
    "## *Parking_Lot_tracker*"
   ]
  },
  {
   "cell_type": "code",
   "execution_count": 1,
   "id": "e1c3e7e4",
   "metadata": {},
   "outputs": [],
   "source": [
    "class ParkingLot:\n",
    "    def __init__(self):\n",
    "        self.levels = {'A': [f'A{i}' for i in range(1,21)] ,'B': [f'B{i}' for i in range(21,41)] }\n",
    "        self.veh_mapping = {}\n",
    "\n",
    "    def assign_parking_space(self, veh_number):\n",
    "        for level, spaces in self.levels.items():\n",
    "            for  space in spaces:\n",
    "                if space not in self.veh_mapping.values():\n",
    "                    self.veh_mapping[veh_number] = space\n",
    "                    return {'level':level,'space':space}\n",
    "        return 'Parking is full'\n",
    "\n",
    "    def retrieve_parking_space(self, veh_number):\n",
    "        if veh_number in self.veh_mapping:\n",
    "            space=self.veh_mapping[veh_number]\n",
    "            level='A' if space.startswith('A') else 'B'\n",
    "            return {'level':level,'space':space}\n",
    "        else:\n",
    "            \n",
    "            return 'Vehicle is not found in parking lot'\n",
    "\n",
    "    def unpark_vehicle(self, veh_number):\n",
    "        if veh_number in self.veh_mapping:\n",
    "            space = self.veh_mapping[veh_number]\n",
    "            del self.veh_mapping[veh_number]\n",
    "            \n",
    "            return f'Vehicle {veh_number} has been unparked from {space}'\n",
    "        else:\n",
    "            return 'Vehicle is not found'\n",
    "\n",
    "    def retrieve_nearest_parking(self,level):\n",
    "        for  space in self.levels[level]:\n",
    "            if space not in self.veh_mapping.values():\n",
    "                return {'level':level,'space':space}\n",
    "        #return 'Parking is full'"
   ]
  },
  {
   "cell_type": "code",
   "execution_count": 3,
   "id": "04af06c5",
   "metadata": {},
   "outputs": [
    {
     "name": "stdout",
     "output_type": "stream",
     "text": [
      "\n",
      " Options Available\n",
      " 1 for Assign parking space to  new vehicle\n",
      " 2 for retrieve parking space of vehicle\n",
      " 3 for unpark a vehicle\n",
      " 4 for retrieve nearest parking location\n",
      "Enter your choice(1/2/3/4 ) and any key to exist:1\n",
      "Enter vehicle number::3455\n",
      "parking space is assigned:: {'level': 'A', 'space': 'A1'}\n",
      "\n",
      " Options Available\n",
      " 1 for Assign parking space to  new vehicle\n",
      " 2 for retrieve parking space of vehicle\n",
      " 3 for unpark a vehicle\n",
      " 4 for retrieve nearest parking location\n",
      "Enter your choice(1/2/3/4 ) and any key to exist:1\n",
      "Enter vehicle number::4567\n",
      "parking space is assigned:: {'level': 'A', 'space': 'A2'}\n",
      "\n",
      " Options Available\n",
      " 1 for Assign parking space to  new vehicle\n",
      " 2 for retrieve parking space of vehicle\n",
      " 3 for unpark a vehicle\n",
      " 4 for retrieve nearest parking location\n",
      "Enter your choice(1/2/3/4 ) and any key to exist:2\n",
      "Enter vehicle number::4567\n",
      "{'level': 'A', 'space': 'A2'}\n",
      "\n",
      " Options Available\n",
      " 1 for Assign parking space to  new vehicle\n",
      " 2 for retrieve parking space of vehicle\n",
      " 3 for unpark a vehicle\n",
      " 4 for retrieve nearest parking location\n",
      "Enter your choice(1/2/3/4 ) and any key to exist:3\n",
      "Enter vehicle number::4567\n",
      "Vehicle 4567 has been unparked from A2\n",
      "\n",
      " Options Available\n",
      " 1 for Assign parking space to  new vehicle\n",
      " 2 for retrieve parking space of vehicle\n",
      " 3 for unpark a vehicle\n",
      " 4 for retrieve nearest parking location\n",
      "Enter your choice(1/2/3/4 ) and any key to exist:n\n",
      " exist the parking lot tracker\n"
     ]
    }
   ],
   "source": [
    "def f():\n",
    "    park_lot=ParkingLot()\n",
    "    while True:\n",
    "        print(\"\\n Options Available\")\n",
    "        print(\" 1 for Assign parking space to  new vehicle\")\n",
    "        print(\" 2 for retrieve parking space of vehicle\")\n",
    "        print(\" 3 for unpark a vehicle\")\n",
    "        print(\" 4 for retrieve nearest parking location\")\n",
    "        option=input(\"Enter your choice(1/2/3/4 ) and any key to exist:\")\n",
    "        \n",
    "        if option=='1':\n",
    "            veh_number=input(\"Enter vehicle number::\")\n",
    "            result=park_lot.assign_parking_space(veh_number)\n",
    "            print(\"parking space is assigned::\",result)\n",
    "        elif option=='2':\n",
    "            veh_number=input(\"Enter vehicle number::\")\n",
    "            result=park_lot.retrieve_parking_space(veh_number)\n",
    "            print(result)\n",
    "        elif option=='3':\n",
    "            veh_number=input(\"Enter vehicle number::\")\n",
    "            result=park_lot.unpark_vehicle(veh_number)\n",
    "            print(result)\n",
    "        elif option=='4':\n",
    "            level=input(\"Enter level(A/B)::\").upper()\n",
    "            result=park_lot.retrieve_nearest_parking(level)\n",
    "            print(result)\n",
    "        else:\n",
    "            print(\" exist the parking lot tracker\")\n",
    "            break\n",
    "f()"
   ]
  },
  {
   "cell_type": "markdown",
   "id": "f6d9a733",
   "metadata": {},
   "source": [
    "###### "
   ]
  }
 ],
 "metadata": {
  "kernelspec": {
   "display_name": "Python 3 (ipykernel)",
   "language": "python",
   "name": "python3"
  },
  "language_info": {
   "codemirror_mode": {
    "name": "ipython",
    "version": 3
   },
   "file_extension": ".py",
   "mimetype": "text/x-python",
   "name": "python",
   "nbconvert_exporter": "python",
   "pygments_lexer": "ipython3",
   "version": "3.9.12"
  }
 },
 "nbformat": 4,
 "nbformat_minor": 5
}
